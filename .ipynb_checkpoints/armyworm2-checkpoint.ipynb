{
 "cells": [
  {
   "cell_type": "markdown",
   "metadata": {},
   "source": [
    "# Estimation of Armyworm Population Proportion (Per Stage)"
   ]
  },
  {
   "cell_type": "markdown",
   "metadata": {},
   "source": [
    "# 1. Background"
   ]
  },
  {
   "cell_type": "markdown",
   "metadata": {},
   "source": [
    "The concept of integrated pest management (IPM), a sustainable strategy for managing pests, has been in practice for a long time. Pest control and management is a multifacted activity, it comprises of many factors from insect genetics and pesticide resistance to chemical formulation of pesticides. But controlling pests by determining the relationship of their evolutionary biology and its dependence on ecological variables, like temperature, has been by far the most most convenient way of handling an outbreak. \n",
    "\n",
    "It has been noted that the problem of agricultural damage from insects only occurs within a short period of time. In this short window, monitoring of ecological variables, like temperature, to determine the existence of the different stages of the insect is crucial for an effective pest control."
   ]
  },
  {
   "cell_type": "markdown",
   "metadata": {},
   "source": [
    "# 2. The Project"
   ]
  },
  {
   "cell_type": "markdown",
   "metadata": {},
   "source": [
    "This project is focused on determining the proportion of the different life stages of the Fall Armyworm (Spodoptera frugiperda) in relation to temperature. \n",
    "\n",
    "S. frugiperda is a major pest for maize in North and South America, and is considered as a very potent invasive species in other countries. Many countries where maize is the primary import product is at risk of S. frugiperda and its expanding distribution. FAO have listed the Fall Armyworm in their \"Food Chain Crisis List\", according to the organization \"unless appropriate action is taken, the likelihood of spread and damage will be high because the pest will have full access to the susceptible maize crop\" (FAO, Sisay et al. 2018; Aseffa et al., 2019). Furthermore, new research have also shown that S. frugiperda can also survive in an alternative host plant (Moraes et al., 2020) during off season, this poses a threat to other agricultural plants.\n",
    "\n",
    "An interesting characteristic of S.frugiperda is that only the larvae pose a threat to agriculture, the other stages (egg, pupae, and adult) do not cause direct damage. It can be noted that controlling these stages, other than the larval stage, is inefficient because eggs and pupae are either inert to pesticide, while adults tend to flee from areas where pesticides have been applied.\n",
    "\n",
    "Hence, only the larval stage causes damage and is in a position in which treatment is truly effective. But growers should be careful: spray too early and many of the eggs laid will not have hatched. Spray too late and the larvae will have reached their most destructive period: a time in which much of a crops value is destroyed and the insects are most resistant to chemical treatments."
   ]
  },
  {
   "cell_type": "markdown",
   "metadata": {},
   "source": [
    "# 3. Objective"
   ]
  },
  {
   "cell_type": "markdown",
   "metadata": {},
   "source": [
    "Develop a tool that helps gauge when a population is in an optimal state for treatment would be helpful for growers. Current degree day models provide broad, deterministic evaluations of developmental trends in a pest population, but do not account for variable responses to temperatures within the population. We propose a new approach that accounts for varying development rates and estimates the proportion of a population in a given lifestage. The hope is to empower growers with knowledge of the likely state of pest populations in their area and estimate when chemical applications are most effective."
   ]
  },
  {
   "cell_type": "markdown",
   "metadata": {},
   "source": [
    "# 3. Methodology"
   ]
  },
  {
   "cell_type": "markdown",
   "metadata": {},
   "source": [
    "### 3.1 Deterministic Approach: First order decay kinetics"
   ]
  },
  {
   "cell_type": "markdown",
   "metadata": {},
   "source": [
    "The team utilized a 1st order decay kinetics similar to that of the Malthusian model with the following assumptions:\n",
    "\n",
    "1. the population is homogeneous (i.e., all members are identical).\n",
    "2. the population inhabits a uniform and unvarying environment.\n",
    "3. there are no spatial limitations.\n",
    "\n",
    "Note: \n",
    "The first order decay kinetics is one of the simplest models, however, it is too simple to be useful in most circumstances but due to its simplicity and ease of interpretability, it is still a popular method among modelers.\n",
    "\n",
    "Realistically, population growth, or decay, is limited by various factors from resource availability to predation. Additional limitations arise from the system’s internal dynamics, such as overcrowding. \n",
    "\n",
    "First order kinetics may be able to describe the growth, or decay, of a population for a limited period of time; however, unrestrained growth, or decay, is never sustainable, and thus additional components are necessary to obtain a more realistic model."
   ]
  },
  {
   "cell_type": "markdown",
   "metadata": {},
   "source": [
    "### 3.2 The Model"
   ]
  },
  {
   "cell_type": "markdown",
   "metadata": {},
   "source": [
    "The 1st order kinetics is described as:\n",
    "\\begin{equation*}\n",
    "\\frac{dn}{dt} = -(k)(n) \\hspace{1cm} eq.1\n",
    "\\end{equation*}\n",
    "\n",
    "n represents the number of individuals (or the biomass), and k represents the rate constant. Furthermore, t represents the unit of time which depends on the organism of inquiry. For instance, for rapidly multiplying organisms (e.g., bacteria), t may be measured in minutes, whereas for slowly multiplying organisms (e.g., elephants), t may be measured in years."
   ]
  },
  {
   "cell_type": "markdown",
   "metadata": {},
   "source": [
    "### 3.3 Analytic Solution"
   ]
  },
  {
   "cell_type": "markdown",
   "metadata": {},
   "source": [
    "The solution to eq.1 is easily achieved by separation of variables and integrating both sides of the equation, assuming that:\n",
    "\n",
    "\\begin{equation*}\n",
    "n_0 = n_{t=0}\n",
    "\\end{equation*}\n",
    "\n",
    "will yield:\n",
    "\\begin{equation}\n",
    "\\int_{n_{0}}^n \\frac{dn}{n} = -(k)\\int_{t_{0}}^t\\mathrm{d}t\n",
    "\\end{equation}\n",
    "\n",
    "further simplificaiton:\n",
    "\\begin{equation*}\n",
    "ln(\\frac{n}{n_0}) = -(k_1)(t-t_0)\n",
    "\\end{equation*}\n",
    "\n",
    "the solution is:\n",
    "\\begin{equation*}\n",
    "\\frac{n}{n_0} = e^{-(k)(t-t_0)}\n",
    "\\end{equation*}\n",
    "\n",
    "The right hand side is called the \"viable fraction\", this is the proportion left after some of the individuals have decayed [in this case evolved]."
   ]
  },
  {
   "cell_type": "markdown",
   "metadata": {},
   "source": [
    "### 3.4 Development rate constants"
   ]
  },
  {
   "cell_type": "markdown",
   "metadata": {},
   "source": [
    "Du Plessis et al. (2020) have developed a relationship between developmental rates of the different stages S. frugiperda, as a function of temperature.\n",
    "\n",
    "For eggs:\n",
    "\\begin{equation*}\n",
    "k = 0.0213T - 0.1817\n",
    "\\end{equation*}\n",
    "\n",
    "For 1st instar:\n",
    "\\begin{equation*}\n",
    "k = 0.0323T - 0.359\n",
    "\\end{equation*}\n",
    "\n",
    "For 2nd instar:\n",
    "\\begin{equation*}\n",
    "k = 0.0465T- 0.6299\n",
    "\\end{equation*}\n",
    "\n",
    "For 3rd instar:\n",
    "\\begin{equation*}\n",
    "k = 0.0404T - 0.0532\n",
    "\\end{equation*}\n",
    "\n",
    "For 4th instar:\n",
    "\\begin{equation*}\n",
    "k = 0.0273T - 0.2996\n",
    "\\end{equation*}\n",
    "\n",
    "For 5th instar:\n",
    "\\begin{equation*}\n",
    "k = 0.0312T - 0.4682\n",
    "\\end{equation*}"
   ]
  },
  {
   "cell_type": "markdown",
   "metadata": {},
   "source": [
    "### 3.5 Proportion of Different Stages based on the 1st order decay kinetics"
   ]
  },
  {
   "cell_type": "markdown",
   "metadata": {},
   "source": [
    "the proportion of remaining eggs at Temp = T:\n",
    "\\begin{equation*}\n",
    "\\frac{n_{eggs_{final}}}{n_{eggs_{initial}}} = e^{-(0.0213T - 0.1817)(t-t_0)}\n",
    "\\end{equation*}\n",
    "\n",
    "the proportion of remaining 1st instar at Temp = T:\n",
    "\\begin{equation*}\n",
    "\\frac{n_{instar1_{final}}}{n_{instar1_{initial}}} = e^{-(0.0323T - 0.359)(t-t_0)}\n",
    "\\end{equation*}\n",
    "\n",
    "the proportion of remaining 2nd instar at Temp = T:\n",
    "\\begin{equation*}\n",
    "\\frac{n_{instar2_{final}}}{n_{instar2_{initial}}}= e^{-(0.0465T- 0.6299)(t-t_0)}\n",
    "\\end{equation*}\n",
    "\n",
    "the proportion of remaining 3rd instar at Temp = T:\n",
    "\\begin{equation*}\n",
    "\\frac{n_{instar3_{final}}}{n_{instar3_{initial}}}= e^{-(0.0404T - 0.0532)(t-t_0)}\n",
    "\\end{equation*}\n",
    "\n",
    "the proportion of remaining 4th instar at Temp = T:\n",
    "\\begin{equation*}\n",
    "\\frac{n_{instar4_{final}}}{n_{instar4_{initial}}} = e^{-(0.0273T - 0.2996)(t-t_0)}\n",
    "\\end{equation*}\n",
    "\n",
    "the proportion of remaining 5th instar at Temp = T:\n",
    "\\begin{equation*}\n",
    "\\frac{n_{instar5_{final}}}{n_{instar5_{initial}}} = e^{-(0.0312T - 0.4682)(t-t_0)}\n",
    "\\end{equation*}\n",
    "\n",
    "the proportion of remaining 6th instar at Temp = T:\n",
    "\\begin{equation*}\n",
    "\\frac{n_{instar6_{final}}}{n_{instar6_{initial}}} = 1- e^{-(0.0312T - 0.4682)(t-t_0)}\n",
    "\\end{equation*}"
   ]
  },
  {
   "cell_type": "markdown",
   "metadata": {},
   "source": [
    "# 4. Bibliography"
   ]
  },
  {
   "cell_type": "markdown",
   "metadata": {},
   "source": [
    "http://www.fao.org/food-chain-crisis/how-we-work/plant-protection/fallarmyworm/en/#:~:text=In%20East%20Africa%2C%20fall%20armyworm,crop%20will%20be%20at%20risk.\n",
    "\n",
    "Sisay et al., 2018, First report of the fall armyworm, Spodoptera frugiperda (Lepidoptera: Noctuidae), natural enemies from Africa, Journal of Applied Entomology 142(4103): DOI: 10.1111/jen.12534\n",
    "\n",
    "Assefa et al., 2019, Status and control measures of fall armyworm (Spodoptera frugiperda) infestations in maize fields in Ethiopia: A review, Congent Food & Agriculture, https://doi.org/10.1080/23311932.2019.1641902\n",
    "\n",
    "Moraes et al., 2020, Survival and Development of Fall Armyworm (Lepidoptera: Noctuidae) in Weeds During the Off-Season, Florida Entomologist, 103(2):288-292 (2020). https://doi.org/10.1653/024.103.0221\n",
    "\n",
    "Du Plessis et al., 2020,  The Effect of Temperature on the Development of Spodoptera frugiperda (Lepidoptera: Noctuidae), Insects, 11(4), https://doi.org/10.3390/insects11040228"
   ]
  },
  {
   "cell_type": "markdown",
   "metadata": {},
   "source": [
    "# 5. Codes"
   ]
  },
  {
   "cell_type": "code",
   "execution_count": 2,
   "metadata": {},
   "outputs": [],
   "source": [
    "import math\n",
    "import datetime\n",
    "\n",
    "def proportion_eggs(temp, start_date, end_date):\n",
    "    start_date = datetime.datetime.strptime(start_date, \"%Y-%m-%d\").date()\n",
    "    end_date = datetime.datetime.strptime(end_date, \"%Y-%m-%d\").date()\n",
    "    delta =  (end_date-start_date).days\n",
    "    dev = 0.0213*temp - 0.1817\n",
    "    prop = math.exp(-1*dev*int(delta))\n",
    "    return prop\n",
    "        \n",
    "def proportion_instar_1(temp, start_date, end_date):\n",
    "    start_date = datetime.datetime.strptime(start_date, \"%Y-%m-%d\").date()\n",
    "    end_date = datetime.datetime.strptime(end_date, \"%Y-%m-%d\").date()\n",
    "    delta =  (end_date-start_date).days\n",
    "    dev = 0.0323*temp - 0.359\n",
    "    prop = math.exp(-1*dev*int(delta))\n",
    "    return prop\n",
    "\n",
    "def proportion_instar_2(temp, start_date, end_date):\n",
    "    start_date = datetime.datetime.strptime(start_date, \"%Y-%m-%d\").date()\n",
    "    end_date = datetime.datetime.strptime(end_date, \"%Y-%m-%d\").date()\n",
    "    delta =  (end_date-start_date).days\n",
    "    dev = 0.0465*temp - 0.6299\n",
    "    prop = math.exp(-1*dev*int(delta))\n",
    "    return prop\n",
    "        \n",
    "def proportion_instar_3(temp, start_date, end_date):\n",
    "    start_date = datetime.datetime.strptime(start_date, \"%Y-%m-%d\").date()\n",
    "    end_date = datetime.datetime.strptime(end_date, \"%Y-%m-%d\").date()\n",
    "    delta =  (end_date-start_date).days\n",
    "    dev = 0.0404*temp - 0.0532\n",
    "    prop = math.exp(-1*dev*int(delta))\n",
    "    return prop\n",
    "        \n",
    "def proportion_instar_4(temp, start_date, end_date):\n",
    "    start_date = datetime.datetime.strptime(start_date, \"%Y-%m-%d\").date()\n",
    "    end_date = datetime.datetime.strptime(end_date, \"%Y-%m-%d\").date()\n",
    "    delta =  (end_date-start_date).days\n",
    "    dev = 0.0273*temp - 0.2996\n",
    "    prop = math.exp(-1*dev*int(delta))\n",
    "    return prop\n",
    "        \n",
    "def proportion_instar_5(temp, start_date, end_date):\n",
    "    start_date = datetime.datetime.strptime(start_date, \"%Y-%m-%d\").date()\n",
    "    end_date = datetime.datetime.strptime(end_date, \"%Y-%m-%d\").date()\n",
    "    delta =  (end_date-start_date).days\n",
    "    dev = 0.0312*temp - 0.4682\n",
    "    prop = math.exp(-1*dev*int(delta))\n",
    "    return prop\n",
    "        \n",
    "def proportion_instar_6(temp, start_date, end_date):\n",
    "    start_date = datetime.datetime.strptime(start_date, \"%Y-%m-%d\").date()\n",
    "    end_date = datetime.datetime.strptime(end_date, \"%Y-%m-%d\").date()\n",
    "    delta =  (end_date-start_date).days\n",
    "    dev = 0.0312*temp - 0.4682\n",
    "    prop = math.exp(-1*dev*int(delta))\n",
    "    return 1-prop"
   ]
  },
  {
   "cell_type": "markdown",
   "metadata": {},
   "source": [
    "# 6. Sample run for proportion of eggs"
   ]
  },
  {
   "cell_type": "code",
   "execution_count": 11,
   "metadata": {},
   "outputs": [
    {
     "data": {
      "text/plain": [
       "0.0016579058651944628"
      ]
     },
     "execution_count": 11,
     "metadata": {},
     "output_type": "execute_result"
    }
   ],
   "source": [
    "proportion_eggs(temp = 30, start_date='2008-08-18', end_date='2008-9-01')"
   ]
  },
  {
   "cell_type": "markdown",
   "metadata": {},
   "source": [
    "# 7. Development of Isotherm Curves for Egg Stage"
   ]
  },
  {
   "cell_type": "code",
   "execution_count": 12,
   "metadata": {},
   "outputs": [],
   "source": [
    "start_date = ['2008-08-18','2008-08-20','2008-08-22','2008-08-24','2008-08-26','2008-08-28']\n",
    "temp = [25,27,29,33,35]\n",
    "isotherm_plot = []\n",
    "for i in temp:\n",
    "    for j in start_date:\n",
    "        proportion = proportion_eggs(i, start_date=j, end_date='2008-9-01')\n",
    "        isotherm_plot.append([i,datetime.datetime.strptime(j, \"%Y-%m-%d\").date(),datetime.datetime.strptime('2008-9-01', \"%Y-%m-%d\").date(),proportion])"
   ]
  },
  {
   "cell_type": "code",
   "execution_count": 13,
   "metadata": {},
   "outputs": [
    {
     "data": {
      "text/html": [
       "<div>\n",
       "<style scoped>\n",
       "    .dataframe tbody tr th:only-of-type {\n",
       "        vertical-align: middle;\n",
       "    }\n",
       "\n",
       "    .dataframe tbody tr th {\n",
       "        vertical-align: top;\n",
       "    }\n",
       "\n",
       "    .dataframe thead th {\n",
       "        text-align: right;\n",
       "    }\n",
       "</style>\n",
       "<table border=\"1\" class=\"dataframe\">\n",
       "  <thead>\n",
       "    <tr style=\"text-align: right;\">\n",
       "      <th></th>\n",
       "      <th>temp</th>\n",
       "      <th>duration</th>\n",
       "      <th>proportion</th>\n",
       "    </tr>\n",
       "  </thead>\n",
       "  <tbody>\n",
       "    <tr>\n",
       "      <th>0</th>\n",
       "      <td>25</td>\n",
       "      <td>14 days</td>\n",
       "      <td>0.007364</td>\n",
       "    </tr>\n",
       "    <tr>\n",
       "      <th>1</th>\n",
       "      <td>25</td>\n",
       "      <td>12 days</td>\n",
       "      <td>0.014852</td>\n",
       "    </tr>\n",
       "    <tr>\n",
       "      <th>2</th>\n",
       "      <td>25</td>\n",
       "      <td>10 days</td>\n",
       "      <td>0.029957</td>\n",
       "    </tr>\n",
       "    <tr>\n",
       "      <th>3</th>\n",
       "      <td>25</td>\n",
       "      <td>8 days</td>\n",
       "      <td>0.060422</td>\n",
       "    </tr>\n",
       "    <tr>\n",
       "      <th>4</th>\n",
       "      <td>25</td>\n",
       "      <td>6 days</td>\n",
       "      <td>0.121870</td>\n",
       "    </tr>\n",
       "    <tr>\n",
       "      <th>5</th>\n",
       "      <td>25</td>\n",
       "      <td>4 days</td>\n",
       "      <td>0.245809</td>\n",
       "    </tr>\n",
       "    <tr>\n",
       "      <th>6</th>\n",
       "      <td>27</td>\n",
       "      <td>14 days</td>\n",
       "      <td>0.004056</td>\n",
       "    </tr>\n",
       "    <tr>\n",
       "      <th>7</th>\n",
       "      <td>27</td>\n",
       "      <td>12 days</td>\n",
       "      <td>0.008908</td>\n",
       "    </tr>\n",
       "    <tr>\n",
       "      <th>8</th>\n",
       "      <td>27</td>\n",
       "      <td>10 days</td>\n",
       "      <td>0.019565</td>\n",
       "    </tr>\n",
       "    <tr>\n",
       "      <th>9</th>\n",
       "      <td>27</td>\n",
       "      <td>8 days</td>\n",
       "      <td>0.042972</td>\n",
       "    </tr>\n",
       "    <tr>\n",
       "      <th>10</th>\n",
       "      <td>27</td>\n",
       "      <td>6 days</td>\n",
       "      <td>0.094382</td>\n",
       "    </tr>\n",
       "    <tr>\n",
       "      <th>11</th>\n",
       "      <td>27</td>\n",
       "      <td>4 days</td>\n",
       "      <td>0.207298</td>\n",
       "    </tr>\n",
       "    <tr>\n",
       "      <th>12</th>\n",
       "      <td>29</td>\n",
       "      <td>14 days</td>\n",
       "      <td>0.002234</td>\n",
       "    </tr>\n",
       "    <tr>\n",
       "      <th>13</th>\n",
       "      <td>29</td>\n",
       "      <td>12 days</td>\n",
       "      <td>0.005343</td>\n",
       "    </tr>\n",
       "    <tr>\n",
       "      <th>14</th>\n",
       "      <td>29</td>\n",
       "      <td>10 days</td>\n",
       "      <td>0.012778</td>\n",
       "    </tr>\n",
       "    <tr>\n",
       "      <th>15</th>\n",
       "      <td>29</td>\n",
       "      <td>8 days</td>\n",
       "      <td>0.030562</td>\n",
       "    </tr>\n",
       "    <tr>\n",
       "      <th>16</th>\n",
       "      <td>29</td>\n",
       "      <td>6 days</td>\n",
       "      <td>0.073095</td>\n",
       "    </tr>\n",
       "    <tr>\n",
       "      <th>17</th>\n",
       "      <td>29</td>\n",
       "      <td>4 days</td>\n",
       "      <td>0.174820</td>\n",
       "    </tr>\n",
       "    <tr>\n",
       "      <th>18</th>\n",
       "      <td>33</td>\n",
       "      <td>14 days</td>\n",
       "      <td>0.000678</td>\n",
       "    </tr>\n",
       "    <tr>\n",
       "      <th>19</th>\n",
       "      <td>33</td>\n",
       "      <td>12 days</td>\n",
       "      <td>0.001922</td>\n",
       "    </tr>\n",
       "    <tr>\n",
       "      <th>20</th>\n",
       "      <td>33</td>\n",
       "      <td>10 days</td>\n",
       "      <td>0.005451</td>\n",
       "    </tr>\n",
       "    <tr>\n",
       "      <th>21</th>\n",
       "      <td>33</td>\n",
       "      <td>8 days</td>\n",
       "      <td>0.015458</td>\n",
       "    </tr>\n",
       "    <tr>\n",
       "      <th>22</th>\n",
       "      <td>33</td>\n",
       "      <td>6 days</td>\n",
       "      <td>0.043840</td>\n",
       "    </tr>\n",
       "    <tr>\n",
       "      <th>23</th>\n",
       "      <td>33</td>\n",
       "      <td>4 days</td>\n",
       "      <td>0.124332</td>\n",
       "    </tr>\n",
       "    <tr>\n",
       "      <th>24</th>\n",
       "      <td>35</td>\n",
       "      <td>14 days</td>\n",
       "      <td>0.000373</td>\n",
       "    </tr>\n",
       "    <tr>\n",
       "      <th>25</th>\n",
       "      <td>35</td>\n",
       "      <td>12 days</td>\n",
       "      <td>0.001153</td>\n",
       "    </tr>\n",
       "    <tr>\n",
       "      <th>26</th>\n",
       "      <td>35</td>\n",
       "      <td>10 days</td>\n",
       "      <td>0.003560</td>\n",
       "    </tr>\n",
       "    <tr>\n",
       "      <th>27</th>\n",
       "      <td>35</td>\n",
       "      <td>8 days</td>\n",
       "      <td>0.010994</td>\n",
       "    </tr>\n",
       "    <tr>\n",
       "      <th>28</th>\n",
       "      <td>35</td>\n",
       "      <td>6 days</td>\n",
       "      <td>0.033952</td>\n",
       "    </tr>\n",
       "    <tr>\n",
       "      <th>29</th>\n",
       "      <td>35</td>\n",
       "      <td>4 days</td>\n",
       "      <td>0.104853</td>\n",
       "    </tr>\n",
       "  </tbody>\n",
       "</table>\n",
       "</div>"
      ],
      "text/plain": [
       "    temp duration  proportion\n",
       "0     25  14 days    0.007364\n",
       "1     25  12 days    0.014852\n",
       "2     25  10 days    0.029957\n",
       "3     25   8 days    0.060422\n",
       "4     25   6 days    0.121870\n",
       "5     25   4 days    0.245809\n",
       "6     27  14 days    0.004056\n",
       "7     27  12 days    0.008908\n",
       "8     27  10 days    0.019565\n",
       "9     27   8 days    0.042972\n",
       "10    27   6 days    0.094382\n",
       "11    27   4 days    0.207298\n",
       "12    29  14 days    0.002234\n",
       "13    29  12 days    0.005343\n",
       "14    29  10 days    0.012778\n",
       "15    29   8 days    0.030562\n",
       "16    29   6 days    0.073095\n",
       "17    29   4 days    0.174820\n",
       "18    33  14 days    0.000678\n",
       "19    33  12 days    0.001922\n",
       "20    33  10 days    0.005451\n",
       "21    33   8 days    0.015458\n",
       "22    33   6 days    0.043840\n",
       "23    33   4 days    0.124332\n",
       "24    35  14 days    0.000373\n",
       "25    35  12 days    0.001153\n",
       "26    35  10 days    0.003560\n",
       "27    35   8 days    0.010994\n",
       "28    35   6 days    0.033952\n",
       "29    35   4 days    0.104853"
      ]
     },
     "execution_count": 13,
     "metadata": {},
     "output_type": "execute_result"
    }
   ],
   "source": [
    "import pandas as pd\n",
    "isotherm = pd.DataFrame(isotherm_plot, columns  = ['temp','start_date','end_date','proportion'])\n",
    "isotherm['duration'] = isotherm.end_date-isotherm.start_date\n",
    "isotherm_plot = isotherm[['temp','duration','proportion']]\n",
    "isotherm_plot"
   ]
  },
  {
   "cell_type": "code",
   "execution_count": 14,
   "metadata": {},
   "outputs": [
    {
     "data": {
      "text/plain": [
       "Text(0.5, 1.0, 'Isotherm Plots for Proportion of Eggs as Function of Time')"
      ]
     },
     "execution_count": 14,
     "metadata": {},
     "output_type": "execute_result"
    },
    {
     "data": {
      "image/png": "[encoded data removed]",
      "text/plain": [
       "<Figure size 432x288 with 1 Axes>"
      ]
     },
     "metadata": {
      "needs_background": "light"
     },
     "output_type": "display_data"
    }
   ],
   "source": [
    "import seaborn as sns\n",
    "ax = sns.lineplot(data=isotherm_plot, x=\"duration\", y=\"proportion\", hue=\"temp\", palette = 'tab10')\n",
    "ax.set_title('Isotherm Plots for Proportion of Eggs as Function of Time')"
   ]
  },
  {
   "cell_type": "markdown",
   "metadata": {},
   "source": [
    "# 8. Incorporating Probabilistic Approach"
   ]
  },
  {
   "cell_type": "markdown",
   "metadata": {},
   "source": [
    "Assuming that the development of one stage to another will follow a binomial probability distibution (failed to evolved, succeed to evolved), and given that a sample of the previous stage is available and is observed in the lab. then the proportion of the next stage at time t will be:\n",
    "\n",
    "\\begin{equation*}\n",
    "P_{stage+1}(t) = \\frac{n_{previous}!}{(n_{previous}-n_{next})!n_{next}!} (successfully \\hspace{0.05cm}  evolved)(fialed \\hspace{0.05cm} to \\hspace{0.05cm} evolved)\n",
    "\\end{equation*}\n",
    "\n",
    "or:\n",
    "\n",
    "\\begin{equation*}\n",
    "P_{stage+1}(t) = \\frac{n_{previous}!}{(n_{previous}-n_{next})!n_{next}!} (1-Viable \\hspace{0.05cm} fraction)^{n_{next}}(Viable \\hspace{0.05cm} fraction)^{n_{previous} - n_{next}}\n",
    "\\end{equation*}\n",
    "\n",
    "or\n",
    "\\begin{equation*}\n",
    "P_{stage+1}(t) = \\frac{n_{previous}!}{(n_{previous}-n_{next})!n_{next}!} (1-e^{-(k)(t-t_0)})^{n_{next}} (e^{-(k)(t-t_0)})^{n_{previous} - n_{next}}\n",
    "\\end{equation*}"
   ]
  },
  {
   "cell_type": "markdown",
   "metadata": {},
   "source": [
    "# 9. Codes"
   ]
  },
  {
   "cell_type": "code",
   "execution_count": 2,
   "metadata": {},
   "outputs": [],
   "source": [
    "import math, datetime\n",
    "\n",
    "def prop_instar1(temp, count_previous_stage,count_next_stage,start_date, end_date):\n",
    "    n_fact = math.factorial(count_previous_stage)\n",
    "    r_fact = math.factorial(count_next_stage)\n",
    "    diff_fact = math.factorial(count_previous_stage-count_next_stage)\n",
    "    nCr = n_fact/(diff_fact*r_fact)\n",
    "\n",
    "    start_date = datetime.datetime.strptime(start_date, \"%Y-%m-%d\").date()\n",
    "    end_date = datetime.datetime.strptime(end_date, \"%Y-%m-%d\").date()\n",
    "    delta =  (end_date-start_date).days\n",
    "    \n",
    "    dev = 0.0213*temp - 0.1817\n",
    "    viable_frac = math.exp(-1*dev*int(delta))\n",
    "    prob_retained = viable_frac**(count_previous_stage-count_next_stage)\n",
    "    prob_developed = (1-viable_frac)**(count_next_stage)\n",
    "    proportion_instar1 = nCr*prob_retained*prob_developed\n",
    "    return proportion_instar1\n",
    "\n",
    "def prop_instar2(temp, count_previous_stage,count_next_stage,start_date, end_date):\n",
    "    n_fact = math.factorial(count_previous_stage)\n",
    "    r_fact = math.factorial(count_next_stage)\n",
    "    diff_fact = math.factorial(count_previous_stage-count_next_stage)\n",
    "    nCr = n_fact/(diff_fact*r_fact)\n",
    "\n",
    "    start_date = datetime.datetime.strptime(start_date, \"%Y-%m-%d\").date()\n",
    "    end_date = datetime.datetime.strptime(end_date, \"%Y-%m-%d\").date()\n",
    "    delta =  (end_date-start_date).days\n",
    "   \n",
    "    dev = 0.0323*temp - 0.359\n",
    "    viable_frac = math.exp(-1*dev*int(delta))\n",
    "    prob_retained = viable_frac**(count_previous_stage-count_next_stage)\n",
    "    prob_developed = (1-viable_frac)**(count_next_stage)\n",
    "    proportion_instar2 = nCr*prob_retained*prob_developed\n",
    "    return proportion_instar3\n",
    "\n",
    "def prop_instar3(temp, count_previous_stage,count_next_stage,start_date, end_date):\n",
    "    n_fact = math.factorial(count_previous_stage)\n",
    "    r_fact = math.factorial(count_next_stage)\n",
    "    diff_fact = math.factorial(count_previous_stage-count_next_stage)\n",
    "    nCr = n_fact/(diff_fact*r_fact)\n",
    "\n",
    "    start_date = datetime.datetime.strptime(start_date, \"%Y-%m-%d\").date()\n",
    "    end_date = datetime.datetime.strptime(end_date, \"%Y-%m-%d\").date()\n",
    "    delta =  (end_date-start_date).days\n",
    "   \n",
    "    dev = 0.0465*temp - 0.6299\n",
    "    viable_frac = math.exp(-1*dev*int(delta))\n",
    "    prob_retained = viable_frac**(count_previous_stage-count_next_stage)\n",
    "    prob_developed = (1-viable_frac)**(count_next_stage)\n",
    "    proportion_instar3 = nCr*prob_retained*prob_developed\n",
    "    return proportion_instar3\n",
    "        \n",
    "def prop_instar4(temp, count_previous_stage,count_next_stage,start_date, end_date):\n",
    "    n_fact = math.factorial(count_previous_stage)\n",
    "    r_fact = math.factorial(count_next_stage)\n",
    "    diff_fact = math.factorial(count_previous_stage-count_next_stage)\n",
    "    nCr = n_fact/(diff_fact*r_fact)\n",
    "\n",
    "    start_date = datetime.datetime.strptime(start_date, \"%Y-%m-%d\").date()\n",
    "    end_date = datetime.datetime.strptime(end_date, \"%Y-%m-%d\").date()\n",
    "    delta =  (end_date-start_date).days\n",
    "   \n",
    "    dev = 0.0404*temp - 0.0532\n",
    "    viable_frac = math.exp(-1*dev*int(delta))\n",
    "    prob_retained = viable_frac**(count_previous_stage-count_next_stage)\n",
    "    prob_developed = (1-viable_frac)**(count_next_stage)\n",
    "    proportion_instar4 = nCr*prob_retained*prob_developed\n",
    "    return proportion_instar4\n",
    "        \n",
    "def prop_instar5(temp, count_previous_stage,count_next_stage,start_date, end_date):\n",
    "    n_fact = math.factorial(count_previous_stage)\n",
    "    r_fact = math.factorial(count_next_stage)\n",
    "    diff_fact = math.factorial(count_previous_stage-count_next_stage)\n",
    "    nCr = n_fact/(diff_fact*r_fact)\n",
    "\n",
    "    start_date = datetime.datetime.strptime(start_date, \"%Y-%m-%d\").date()\n",
    "    end_date = datetime.datetime.strptime(end_date, \"%Y-%m-%d\").date()\n",
    "    delta =  (end_date-start_date).days\n",
    "   \n",
    "    dev = 0.0273*temp - 0.2996\n",
    "    viable_frac = math.exp(-1*dev*int(delta))\n",
    "    prob_retained = viable_frac**(count_previous_stage-count_next_stage)\n",
    "    prob_developed = (1-viable_frac)**(count_next_stage)\n",
    "    proportion_instar5 = nCr*prob_retained*prob_developed\n",
    "    return proportion_instar5\n",
    "        \n",
    "def prop_instar6(temp, count_previous_stage,count_next_stage,start_date, end_date):\n",
    "    n_fact = math.factorial(count_previous_stage)\n",
    "    r_fact = math.factorial(count_next_stage)\n",
    "    diff_fact = math.factorial(count_previous_stage-count_next_stage)\n",
    "    nCr = n_fact/(diff_fact*r_fact)\n",
    "\n",
    "    start_date = datetime.datetime.strptime(start_date, \"%Y-%m-%d\").date()\n",
    "    end_date = datetime.datetime.strptime(end_date, \"%Y-%m-%d\").date()\n",
    "    delta =  (end_date-start_date).days\n",
    "    \n",
    "    dev = 0.0312*temp - 0.4682\n",
    "    viable_frac = math.exp(-1*dev*int(delta))\n",
    "    prob_retained = viable_frac**(count_previous_stage-count_next_stage)\n",
    "    prob_developed = (1-viable_frac)**(count_next_stage)\n",
    "    proportion_instar6 = nCr*prob_retained*prob_developed\n",
    "    return proportion_instar6"
   ]
  },
  {
   "cell_type": "markdown",
   "metadata": {},
   "source": [
    "# 10. Sample run for proportion of Instar 1 ( if all sampled eggs have hatched)"
   ]
  },
  {
   "cell_type": "code",
   "execution_count": 13,
   "metadata": {},
   "outputs": [
    {
     "data": {
      "text/plain": [
       "0.5421789944502967"
      ]
     },
     "execution_count": 13,
     "metadata": {},
     "output_type": "execute_result"
    }
   ],
   "source": [
    "prop_instar1(temp = 18, count_previous_stage = 10, count_next_stage = 10,start_date='2008-08-18', end_date='2008-9-01')"
   ]
  },
  {
   "cell_type": "code",
   "execution_count": 26,
   "metadata": {},
   "outputs": [],
   "source": [
    "start_date = ['2008-08-18','2008-08-20','2008-08-22','2008-08-24','2008-08-26','2008-08-28']\n",
    "temp = [18,21,25,27,29,33,35]\n",
    "isotherm_plot = []\n",
    "for i in temp:\n",
    "    for j in start_date:\n",
    "        proportion = prop_instar1(temp = i, count_previous_stage = 10, count_next_stage = 10,start_date='2008-08-18', end_date='2008-9-01')\n",
    "        isotherm_plot.append([i,datetime.datetime.strptime(j, \"%Y-%m-%d\").date(),datetime.datetime.strptime('2008-9-01', \"%Y-%m-%d\").date(),proportion])"
   ]
  },
  {
   "cell_type": "code",
   "execution_count": 27,
   "metadata": {},
   "outputs": [
    {
     "data": {
      "text/html": [
       "<div>\n",
       "<style scoped>\n",
       "    .dataframe tbody tr th:only-of-type {\n",
       "        vertical-align: middle;\n",
       "    }\n",
       "\n",
       "    .dataframe tbody tr th {\n",
       "        vertical-align: top;\n",
       "    }\n",
       "\n",
       "    .dataframe thead th {\n",
       "        text-align: right;\n",
       "    }\n",
       "</style>\n",
       "<table border=\"1\" class=\"dataframe\">\n",
       "  <thead>\n",
       "    <tr style=\"text-align: right;\">\n",
       "      <th></th>\n",
       "      <th>temp</th>\n",
       "      <th>duration</th>\n",
       "      <th>proportion</th>\n",
       "    </tr>\n",
       "  </thead>\n",
       "  <tbody>\n",
       "    <tr>\n",
       "      <th>0</th>\n",
       "      <td>18</td>\n",
       "      <td>14 days</td>\n",
       "      <td>0.542179</td>\n",
       "    </tr>\n",
       "    <tr>\n",
       "      <th>1</th>\n",
       "      <td>18</td>\n",
       "      <td>12 days</td>\n",
       "      <td>0.542179</td>\n",
       "    </tr>\n",
       "    <tr>\n",
       "      <th>2</th>\n",
       "      <td>18</td>\n",
       "      <td>10 days</td>\n",
       "      <td>0.542179</td>\n",
       "    </tr>\n",
       "    <tr>\n",
       "      <th>3</th>\n",
       "      <td>18</td>\n",
       "      <td>8 days</td>\n",
       "      <td>0.542179</td>\n",
       "    </tr>\n",
       "    <tr>\n",
       "      <th>4</th>\n",
       "      <td>18</td>\n",
       "      <td>6 days</td>\n",
       "      <td>0.542179</td>\n",
       "    </tr>\n",
       "    <tr>\n",
       "      <th>5</th>\n",
       "      <td>18</td>\n",
       "      <td>4 days</td>\n",
       "      <td>0.542179</td>\n",
       "    </tr>\n",
       "    <tr>\n",
       "      <th>6</th>\n",
       "      <td>21</td>\n",
       "      <td>14 days</td>\n",
       "      <td>0.782140</td>\n",
       "    </tr>\n",
       "    <tr>\n",
       "      <th>7</th>\n",
       "      <td>21</td>\n",
       "      <td>12 days</td>\n",
       "      <td>0.782140</td>\n",
       "    </tr>\n",
       "    <tr>\n",
       "      <th>8</th>\n",
       "      <td>21</td>\n",
       "      <td>10 days</td>\n",
       "      <td>0.782140</td>\n",
       "    </tr>\n",
       "    <tr>\n",
       "      <th>9</th>\n",
       "      <td>21</td>\n",
       "      <td>8 days</td>\n",
       "      <td>0.782140</td>\n",
       "    </tr>\n",
       "    <tr>\n",
       "      <th>10</th>\n",
       "      <td>21</td>\n",
       "      <td>6 days</td>\n",
       "      <td>0.782140</td>\n",
       "    </tr>\n",
       "    <tr>\n",
       "      <th>11</th>\n",
       "      <td>21</td>\n",
       "      <td>4 days</td>\n",
       "      <td>0.782140</td>\n",
       "    </tr>\n",
       "    <tr>\n",
       "      <th>12</th>\n",
       "      <td>25</td>\n",
       "      <td>14 days</td>\n",
       "      <td>0.928756</td>\n",
       "    </tr>\n",
       "    <tr>\n",
       "      <th>13</th>\n",
       "      <td>25</td>\n",
       "      <td>12 days</td>\n",
       "      <td>0.928756</td>\n",
       "    </tr>\n",
       "    <tr>\n",
       "      <th>14</th>\n",
       "      <td>25</td>\n",
       "      <td>10 days</td>\n",
       "      <td>0.928756</td>\n",
       "    </tr>\n",
       "    <tr>\n",
       "      <th>15</th>\n",
       "      <td>25</td>\n",
       "      <td>8 days</td>\n",
       "      <td>0.928756</td>\n",
       "    </tr>\n",
       "    <tr>\n",
       "      <th>16</th>\n",
       "      <td>25</td>\n",
       "      <td>6 days</td>\n",
       "      <td>0.928756</td>\n",
       "    </tr>\n",
       "    <tr>\n",
       "      <th>17</th>\n",
       "      <td>25</td>\n",
       "      <td>4 days</td>\n",
       "      <td>0.928756</td>\n",
       "    </tr>\n",
       "    <tr>\n",
       "      <th>18</th>\n",
       "      <td>27</td>\n",
       "      <td>14 days</td>\n",
       "      <td>0.960174</td>\n",
       "    </tr>\n",
       "    <tr>\n",
       "      <th>19</th>\n",
       "      <td>27</td>\n",
       "      <td>12 days</td>\n",
       "      <td>0.960174</td>\n",
       "    </tr>\n",
       "    <tr>\n",
       "      <th>20</th>\n",
       "      <td>27</td>\n",
       "      <td>10 days</td>\n",
       "      <td>0.960174</td>\n",
       "    </tr>\n",
       "    <tr>\n",
       "      <th>21</th>\n",
       "      <td>27</td>\n",
       "      <td>8 days</td>\n",
       "      <td>0.960174</td>\n",
       "    </tr>\n",
       "    <tr>\n",
       "      <th>22</th>\n",
       "      <td>27</td>\n",
       "      <td>6 days</td>\n",
       "      <td>0.960174</td>\n",
       "    </tr>\n",
       "    <tr>\n",
       "      <th>23</th>\n",
       "      <td>27</td>\n",
       "      <td>4 days</td>\n",
       "      <td>0.960174</td>\n",
       "    </tr>\n",
       "    <tr>\n",
       "      <th>24</th>\n",
       "      <td>29</td>\n",
       "      <td>14 days</td>\n",
       "      <td>0.977884</td>\n",
       "    </tr>\n",
       "    <tr>\n",
       "      <th>25</th>\n",
       "      <td>29</td>\n",
       "      <td>12 days</td>\n",
       "      <td>0.977884</td>\n",
       "    </tr>\n",
       "    <tr>\n",
       "      <th>26</th>\n",
       "      <td>29</td>\n",
       "      <td>10 days</td>\n",
       "      <td>0.977884</td>\n",
       "    </tr>\n",
       "    <tr>\n",
       "      <th>27</th>\n",
       "      <td>29</td>\n",
       "      <td>8 days</td>\n",
       "      <td>0.977884</td>\n",
       "    </tr>\n",
       "    <tr>\n",
       "      <th>28</th>\n",
       "      <td>29</td>\n",
       "      <td>6 days</td>\n",
       "      <td>0.977884</td>\n",
       "    </tr>\n",
       "    <tr>\n",
       "      <th>29</th>\n",
       "      <td>29</td>\n",
       "      <td>4 days</td>\n",
       "      <td>0.977884</td>\n",
       "    </tr>\n",
       "    <tr>\n",
       "      <th>30</th>\n",
       "      <td>33</td>\n",
       "      <td>14 days</td>\n",
       "      <td>0.993244</td>\n",
       "    </tr>\n",
       "    <tr>\n",
       "      <th>31</th>\n",
       "      <td>33</td>\n",
       "      <td>12 days</td>\n",
       "      <td>0.993244</td>\n",
       "    </tr>\n",
       "    <tr>\n",
       "      <th>32</th>\n",
       "      <td>33</td>\n",
       "      <td>10 days</td>\n",
       "      <td>0.993244</td>\n",
       "    </tr>\n",
       "    <tr>\n",
       "      <th>33</th>\n",
       "      <td>33</td>\n",
       "      <td>8 days</td>\n",
       "      <td>0.993244</td>\n",
       "    </tr>\n",
       "    <tr>\n",
       "      <th>34</th>\n",
       "      <td>33</td>\n",
       "      <td>6 days</td>\n",
       "      <td>0.993244</td>\n",
       "    </tr>\n",
       "    <tr>\n",
       "      <th>35</th>\n",
       "      <td>33</td>\n",
       "      <td>4 days</td>\n",
       "      <td>0.993244</td>\n",
       "    </tr>\n",
       "    <tr>\n",
       "      <th>36</th>\n",
       "      <td>35</td>\n",
       "      <td>14 days</td>\n",
       "      <td>0.996274</td>\n",
       "    </tr>\n",
       "    <tr>\n",
       "      <th>37</th>\n",
       "      <td>35</td>\n",
       "      <td>12 days</td>\n",
       "      <td>0.996274</td>\n",
       "    </tr>\n",
       "    <tr>\n",
       "      <th>38</th>\n",
       "      <td>35</td>\n",
       "      <td>10 days</td>\n",
       "      <td>0.996274</td>\n",
       "    </tr>\n",
       "    <tr>\n",
       "      <th>39</th>\n",
       "      <td>35</td>\n",
       "      <td>8 days</td>\n",
       "      <td>0.996274</td>\n",
       "    </tr>\n",
       "    <tr>\n",
       "      <th>40</th>\n",
       "      <td>35</td>\n",
       "      <td>6 days</td>\n",
       "      <td>0.996274</td>\n",
       "    </tr>\n",
       "    <tr>\n",
       "      <th>41</th>\n",
       "      <td>35</td>\n",
       "      <td>4 days</td>\n",
       "      <td>0.996274</td>\n",
       "    </tr>\n",
       "  </tbody>\n",
       "</table>\n",
       "</div>"
      ],
      "text/plain": [
       "    temp duration  proportion\n",
       "0     18  14 days    0.542179\n",
       "1     18  12 days    0.542179\n",
       "2     18  10 days    0.542179\n",
       "3     18   8 days    0.542179\n",
       "4     18   6 days    0.542179\n",
       "5     18   4 days    0.542179\n",
       "6     21  14 days    0.782140\n",
       "7     21  12 days    0.782140\n",
       "8     21  10 days    0.782140\n",
       "9     21   8 days    0.782140\n",
       "10    21   6 days    0.782140\n",
       "11    21   4 days    0.782140\n",
       "12    25  14 days    0.928756\n",
       "13    25  12 days    0.928756\n",
       "14    25  10 days    0.928756\n",
       "15    25   8 days    0.928756\n",
       "16    25   6 days    0.928756\n",
       "17    25   4 days    0.928756\n",
       "18    27  14 days    0.960174\n",
       "19    27  12 days    0.960174\n",
       "20    27  10 days    0.960174\n",
       "21    27   8 days    0.960174\n",
       "22    27   6 days    0.960174\n",
       "23    27   4 days    0.960174\n",
       "24    29  14 days    0.977884\n",
       "25    29  12 days    0.977884\n",
       "26    29  10 days    0.977884\n",
       "27    29   8 days    0.977884\n",
       "28    29   6 days    0.977884\n",
       "29    29   4 days    0.977884\n",
       "30    33  14 days    0.993244\n",
       "31    33  12 days    0.993244\n",
       "32    33  10 days    0.993244\n",
       "33    33   8 days    0.993244\n",
       "34    33   6 days    0.993244\n",
       "35    33   4 days    0.993244\n",
       "36    35  14 days    0.996274\n",
       "37    35  12 days    0.996274\n",
       "38    35  10 days    0.996274\n",
       "39    35   8 days    0.996274\n",
       "40    35   6 days    0.996274\n",
       "41    35   4 days    0.996274"
      ]
     },
     "execution_count": 27,
     "metadata": {},
     "output_type": "execute_result"
    }
   ],
   "source": [
    "import pandas as pd\n",
    "isotherm = pd.DataFrame(isotherm_plot, columns  = ['temp','start_date','end_date','proportion'])\n",
    "isotherm['duration'] = isotherm.end_date-isotherm.start_date\n",
    "isotherm_plot = isotherm[['temp','duration','proportion']]\n",
    "isotherm_plot"
   ]
  },
  {
   "cell_type": "code",
   "execution_count": 31,
   "metadata": {},
   "outputs": [
    {
     "data": {
      "text/plain": [
       "Text(0.5, 1.0, 'Isotherm Plots for Proportion of 1st Instar as Function of Temp')"
      ]
     },
     "execution_count": 31,
     "metadata": {},
     "output_type": "execute_result"
    },
    {
     "data": {
      "image/png": "[encoded data removed]",
      "text/plain": [
       "<Figure size 432x288 with 1 Axes>"
      ]
     },
     "metadata": {
      "needs_background": "light"
     },
     "output_type": "display_data"
    }
   ],
   "source": [
    "import seaborn as sns\n",
    "ax = sns.lineplot(data=isotherm_plot, x=\"temp\", y=\"proportion\")\n",
    "ax.set_title('Isotherm Plots for Proportion of 1st Instar as Function of Temp')"
   ]
  },
  {
   "cell_type": "code",
   "execution_count": null,
   "metadata": {},
   "outputs": [],
   "source": []
  },
  {
   "cell_type": "code",
   "execution_count": null,
   "metadata": {},
   "outputs": [],
   "source": []
  },
  {
   "cell_type": "markdown",
   "metadata": {},
   "source": [
    "# 11. Sample run for proportion of Instar 1 (if all of sampled eggs failed to hatch)"
   ]
  },
  {
   "cell_type": "code",
   "execution_count": 29,
   "metadata": {},
   "outputs": [
    {
     "data": {
      "text/plain": [
       "1.568912342547982e-28"
      ]
     },
     "execution_count": 29,
     "metadata": {},
     "output_type": "execute_result"
    }
   ],
   "source": [
    "prop_instar1(temp = 30, count_previous_stage = 10, count_next_stage = 0,start_date='2008-08-18', end_date='2008-9-01')"
   ]
  },
  {
   "cell_type": "markdown",
   "metadata": {},
   "source": [
    "# 12. Sample run for proportion of Instar 1 (if >50% of sampled eggs hatched)"
   ]
  },
  {
   "cell_type": "code",
   "execution_count": 30,
   "metadata": {},
   "outputs": [
    {
     "data": {
      "text/plain": [
       "0.00012205829934036057"
      ]
     },
     "execution_count": 30,
     "metadata": {},
     "output_type": "execute_result"
    }
   ],
   "source": [
    "prop_instar1(temp = 30, count_previous_stage = 10, count_next_stage = 8,start_date='2008-08-18', end_date='2008-9-01')"
   ]
  },
  {
   "cell_type": "markdown",
   "metadata": {},
   "source": [
    "# 13. Next Steps"
   ]
  },
  {
   "cell_type": "markdown",
   "metadata": {},
   "source": [
    "1. Validation data.\n",
    "2. Investigate spatio-temproal models to accomodate area and other environmental factors."
   ]
  },
  {
   "cell_type": "code",
   "execution_count": null,
   "metadata": {},
   "outputs": [],
   "source": []
  }
 ],
 "metadata": {
  "kernelspec": {
   "display_name": "Python 3",
   "language": "python",
   "name": "python3"
  },
  "language_info": {
   "codemirror_mode": {
    "name": "ipython",
    "version": 3
   },
   "file_extension": ".py",
   "mimetype": "text/x-python",
   "name": "python",
   "nbconvert_exporter": "python",
   "pygments_lexer": "ipython3",
   "version": "3.8.3"
  }
 },
 "nbformat": 4,
 "nbformat_minor": 4
}
